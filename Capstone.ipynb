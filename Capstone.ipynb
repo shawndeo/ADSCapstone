{
 "cells": [
  {
   "cell_type": "markdown",
   "metadata": {},
   "source": [
    "# Introduction / Business Problem\n",
    "New York's pizza is world renowned! New York has all types of pizza and all ranges of locations; dollar-slice spots, high-end expensive restaurants, thin crust, deep dish, etc. As a consequence; we have dozens and dozens of pizza places in close proximity to each other. But what if an individual or corporation would like to open a pizza place in NYC? Where would they locate the restaurant? One thing that would help a prospective restaurant owner with that decision is to find the neighborhood with the least competition. But then, you also have to consider other advantages such as proximity to train lines and bus stops that could lead to more foot traffic. We're going to perform some analysis to help prospective pizza shop owners make a more informed decision.\n",
    "\n",
    "# Data\n",
    "The main source of data will be using Foursquare to pull nearby pizza places in a 1 mile radius.\n",
    "\n",
    "A second possible source of data may be Google to find nearby train lines and bus stops."
   ]
  },
  {
   "cell_type": "code",
   "execution_count": null,
   "metadata": {},
   "outputs": [],
   "source": []
  }
 ],
 "metadata": {
  "kernelspec": {
   "display_name": "Python",
   "language": "python",
   "name": "conda-env-python-py"
  },
  "language_info": {
   "codemirror_mode": {
    "name": "ipython",
    "version": 3
   },
   "file_extension": ".py",
   "mimetype": "text/x-python",
   "name": "python",
   "nbconvert_exporter": "python",
   "pygments_lexer": "ipython3",
   "version": "3.6.10"
  }
 },
 "nbformat": 4,
 "nbformat_minor": 4
}
